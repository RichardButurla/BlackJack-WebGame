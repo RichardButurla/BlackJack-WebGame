{
 "cells": [
  {
   "cell_type": "code",
   "execution_count": 3,
   "metadata": {},
   "outputs": [
    {
     "name": "stdout",
     "output_type": "stream",
     "text": [
      "Requirement already satisfied: DBcm in c:\\users\\richie\\appdata\\local\\packages\\pythonsoftwarefoundation.python.3.11_qbz5n2kfra8p0\\localcache\\local-packages\\python311\\site-packages (2.1)\n",
      "Requirement already satisfied: mysql-connector-python in c:\\users\\richie\\appdata\\local\\packages\\pythonsoftwarefoundation.python.3.11_qbz5n2kfra8p0\\localcache\\local-packages\\python311\\site-packages (from DBcm) (8.2.0)\n",
      "Requirement already satisfied: protobuf<=4.21.12,>=4.21.1 in c:\\users\\richie\\appdata\\local\\packages\\pythonsoftwarefoundation.python.3.11_qbz5n2kfra8p0\\localcache\\local-packages\\python311\\site-packages (from mysql-connector-python->DBcm) (4.21.12)\n",
      "Note: you may need to restart the kernel to use updated packages.\n"
     ]
    }
   ],
   "source": [
    "%pip install --upgrade DBcm"
   ]
  },
  {
   "cell_type": "code",
   "execution_count": 4,
   "metadata": {},
   "outputs": [],
   "source": [
    "import DBcm"
   ]
  },
  {
   "cell_type": "code",
   "execution_count": 5,
   "metadata": {},
   "outputs": [],
   "source": [
    "credentials = {\n",
    "    \"host\": \"localhost\",\n",
    "    \"database\": \"BlackjackDB\",\n",
    "    \"user\": \"richard\",\n",
    "    \"password\": \"richpassword\"\n",
    "}"
   ]
  },
  {
   "cell_type": "code",
   "execution_count": 7,
   "metadata": {},
   "outputs": [],
   "source": [
    "with DBcm.UseDatabase(credentials) as db:    # database context manager: \"db\" is a database connection.\n",
    "    SQL = \"select * from user_game_statistics\"\n",
    "    db.execute(SQL)  # sends the SQL command to the server to run.\n",
    "    results = db.fetchall()  # gets any results from the server.\n",
    "# automatically closed the database connection."
   ]
  },
  {
   "cell_type": "code",
   "execution_count": 6,
   "metadata": {},
   "outputs": [],
   "source": [
    "import random"
   ]
  },
  {
   "cell_type": "code",
   "execution_count": 28,
   "metadata": {},
   "outputs": [],
   "source": [
    "for _ in range(10):\n",
    "    SQL = \"\"\"\n",
    "        insert into user_game_statistics\n",
    "        (user, outcomes)\n",
    "        values\n",
    "        (%s, %s)\n",
    "    \"\"\"\n",
    "    \n",
    "    gamer = \"JosherFella\"\n",
    "    outcome = random.choice([\"Win\", \"Loss\"])\n",
    "    with DBcm.UseDatabase(credentials) as db:\n",
    "        db.execute(SQL,(gamer,outcome))\n",
    "        SQL = \"\"\"select * from user_game_statistics\"\"\"\n",
    "        db.execute(SQL)\n",
    "        results = db.fetchall()\n",
    "        "
   ]
  },
  {
   "cell_type": "code",
   "execution_count": 22,
   "metadata": {},
   "outputs": [],
   "source": [
    "\n",
    "SQL = \"\"\"\n",
    "    delete from user_game_statistics\n",
    "    where user = \"Reacu\"\n",
    "\"\"\"\n",
    "with DBcm.UseDatabase(credentials) as db:\n",
    "    db.execute(SQL)\n",
    "    SQL = \"\"\"select * from user_game_statistics\"\"\"\n",
    "    db.execute(SQL)\n",
    "    results = db.fetchall()\n",
    "        "
   ]
  },
  {
   "cell_type": "code",
   "execution_count": 31,
   "metadata": {},
   "outputs": [
    {
     "data": {
      "text/plain": [
       "[('Reacu', 'Loss'),\n",
       " ('Reacu', 'Win'),\n",
       " ('Reacu', 'Loss'),\n",
       " ('Reacu', 'Win'),\n",
       " ('Reacu', 'Win'),\n",
       " ('Reacu', 'Win'),\n",
       " ('Reacu', 'Win'),\n",
       " ('Reacu', 'Win'),\n",
       " ('Reacu', 'Win'),\n",
       " ('Reacu', 'Loss'),\n",
       " ('JosherFella', 'Loss'),\n",
       " ('JosherFella', 'Loss'),\n",
       " ('JosherFella', 'Loss'),\n",
       " ('JosherFella', 'Loss'),\n",
       " ('JosherFella', 'Win'),\n",
       " ('JosherFella', 'Loss'),\n",
       " ('JosherFella', 'Win'),\n",
       " ('JosherFella', 'Loss'),\n",
       " ('JosherFella', 'Loss'),\n",
       " ('JosherFella', 'Win'),\n",
       " ('Rooblan', 'Loss'),\n",
       " ('Rooblan', 'Loss'),\n",
       " ('Rooblan', 'Loss'),\n",
       " ('Rooblan', 'Win'),\n",
       " ('Rooblan', 'Loss'),\n",
       " ('Rooblan', 'Loss'),\n",
       " ('Rooblan', 'Loss'),\n",
       " ('Rooblan', 'Win'),\n",
       " ('Rooblan', 'Win'),\n",
       " ('Rooblan', 'Win')]"
      ]
     },
     "execution_count": 31,
     "metadata": {},
     "output_type": "execute_result"
    }
   ],
   "source": [
    "results"
   ]
  },
  {
   "cell_type": "code",
   "execution_count": 7,
   "metadata": {},
   "outputs": [],
   "source": [
    "with DBcm.UseDatabase(credentials) as db:\n",
    "    SQL = \"\"\"\n",
    "        select user from user_game_statistics\n",
    "    \"\"\"\n",
    "    db.execute(SQL)\n",
    "    tags = db.fetchall()"
   ]
  },
  {
   "cell_type": "code",
   "execution_count": 55,
   "metadata": {},
   "outputs": [
    {
     "data": {
      "text/plain": [
       "[('Reacu',),\n",
       " ('Reacu',),\n",
       " ('Reacu',),\n",
       " ('Reacu',),\n",
       " ('Reacu',),\n",
       " ('Reacu',),\n",
       " ('Reacu',),\n",
       " ('Reacu',),\n",
       " ('Reacu',),\n",
       " ('Reacu',),\n",
       " ('JosherFella',),\n",
       " ('JosherFella',),\n",
       " ('JosherFella',),\n",
       " ('JosherFella',),\n",
       " ('JosherFella',),\n",
       " ('JosherFella',),\n",
       " ('JosherFella',),\n",
       " ('JosherFella',),\n",
       " ('JosherFella',),\n",
       " ('JosherFella',),\n",
       " ('Rooblan',),\n",
       " ('Rooblan',),\n",
       " ('Rooblan',),\n",
       " ('Rooblan',),\n",
       " ('Rooblan',),\n",
       " ('Rooblan',),\n",
       " ('Rooblan',),\n",
       " ('Rooblan',),\n",
       " ('Rooblan',),\n",
       " ('Rooblan',)]"
      ]
     },
     "execution_count": 55,
     "metadata": {},
     "output_type": "execute_result"
    }
   ],
   "source": [
    "tags"
   ]
  },
  {
   "cell_type": "code",
   "execution_count": 51,
   "metadata": {},
   "outputs": [
    {
     "name": "stdout",
     "output_type": "stream",
     "text": [
      "['R', 'R', 'R', 'R', 'R', 'R', 'R', 'R', 'R', 'R', 'J', 'J', 'J', 'J', 'J', 'J', 'J', 'J', 'J', 'J', 'R', 'R', 'R', 'R', 'R', 'R', 'R', 'R', 'R', 'R']\n"
     ]
    }
   ],
   "source": [
    "tags = [ row[0] for row in tags ]\n",
    "print(tags)"
   ]
  },
  {
   "cell_type": "code",
   "execution_count": 35,
   "metadata": {},
   "outputs": [
    {
     "data": {
      "text/plain": [
       "'Reacu'"
      ]
     },
     "execution_count": 35,
     "metadata": {},
     "output_type": "execute_result"
    }
   ],
   "source": [
    "who = random.choice(tags)\n",
    "who"
   ]
  },
  {
   "cell_type": "code",
   "execution_count": null,
   "metadata": {},
   "outputs": [],
   "source": [
    "def random_user():\n",
    "    with DBcm.UseDatabase(credentials) as db:\n",
    "        SQL = \"\"\"\n",
    "            select user from user_game_statistics\n",
    "        \"\"\"\n",
    "        db.execute(SQL)\n",
    "        tags = db.fetchall()\n",
    "        tags = [ row[0] for row in tags ]\n",
    "        who = random.choice(tags)\n",
    "    return who"
   ]
  },
  {
   "cell_type": "code",
   "execution_count": null,
   "metadata": {},
   "outputs": [],
   "source": [
    "gamer = random_user()\n",
    "outcome = random.choice([\"Win\", \"Loss\"])\n",
    "gamer, outcome"
   ]
  },
  {
   "cell_type": "code",
   "execution_count": null,
   "metadata": {},
   "outputs": [],
   "source": [
    "for _ in range(500):\n",
    "    SQL = \"\"\"\n",
    "        insert into user_game_statistics\n",
    "        ( user, outcomes )\n",
    "        values     \n",
    "        (%s, %s)\n",
    "    \"\"\"\n",
    "    user = random_user()\n",
    "    outcome = random.choice([\"Win\", \"Loss\"])\n",
    "    with DBcm.UseDatabase(credentials) as db:\n",
    "        db.execute(SQL, (gamer, outcome, ))   # tuple.\n",
    "        SQL = \"\"\"select * from games\"\"\"\n",
    "        db.execute(SQL)\n",
    "        results = db.fetchall()\n",
    "        ## print(results[-3:])"
   ]
  },
  {
   "cell_type": "code",
   "execution_count": null,
   "metadata": {},
   "outputs": [],
   "source": [
    "len(results)"
   ]
  },
  {
   "cell_type": "code",
   "execution_count": 8,
   "metadata": {},
   "outputs": [
    {
     "name": "stdout",
     "output_type": "stream",
     "text": [
      "3\n"
     ]
    }
   ],
   "source": [
    "with DBcm.UseDatabase(credentials) as db:\n",
    "    SQL = \"\"\"select distinct user from user_game_statistics\"\"\"\n",
    "    db.execute(SQL)\n",
    "    tags = db.fetchall()\n",
    "    print(len(tags))\n",
    "    "
   ]
  },
  {
   "cell_type": "code",
   "execution_count": 12,
   "metadata": {},
   "outputs": [
    {
     "data": {
      "text/plain": [
       "[('Reacu',), ('JosherFella',), ('Rooblan',)]"
      ]
     },
     "execution_count": 12,
     "metadata": {},
     "output_type": "execute_result"
    }
   ],
   "source": [
    "tags"
   ]
  },
  {
   "cell_type": "code",
   "execution_count": 69,
   "metadata": {},
   "outputs": [
    {
     "name": "stdout",
     "output_type": "stream",
     "text": [
      "('Reacu',) 0.7\n",
      "------------------------------------------------------------\n",
      "('JosherFella',) 0.3\n",
      "------------------------------------------------------------\n",
      "('Rooblan',) 0.4\n",
      "------------------------------------------------------------\n"
     ]
    }
   ],
   "source": [
    "##Insert win rate if none\n",
    "for tag in tags:\n",
    "    with DBcm.UseDatabase(credentials) as db:    \n",
    "        SQL = \"\"\"\n",
    "            select count(*) from user_game_statistics \n",
    "            where user = %s and outcomes = \"Win\"\n",
    "        \"\"\"\n",
    "        db.execute(SQL, (tag ))   # single value, not a tuple.\n",
    "        results = db.fetchone()  \n",
    "        wins = results[0]\n",
    "        SQL = \"\"\"\n",
    "            select count(*) from user_game_statistics \n",
    "            where user = %s and outcomes = \"Loss\"\n",
    "        \"\"\"\n",
    "        db.execute(SQL, (tag ))   # single value, not a tuple.\n",
    "        results = db.fetchone() \n",
    "        losses = results[0]\n",
    "\n",
    "        SQL = \"\"\"\n",
    "    \t    insert into user_statistics\n",
    "            (user, win_rate)\n",
    "            values\n",
    "            (%s , %s)\n",
    "    \"\"\"\n",
    "        winRatio = wins / (wins+losses)\n",
    "        db.execute(SQL,(tag[0],winRatio,))\n",
    "\n",
    "    ## print(\"Wins:\", wins)\n",
    "    ## print(\"Losses:\", losses)\n",
    "    \n",
    "    print(tag, winRatio)\n",
    "    print(\"-\"*60)\n",
    "        \n"
   ]
  },
  {
   "cell_type": "code",
   "execution_count": 29,
   "metadata": {},
   "outputs": [
    {
     "name": "stdout",
     "output_type": "stream",
     "text": [
      "('Reacu',) 0.6\n",
      "------------------------------------------------------------\n",
      "('JosherFella',) 0.35\n",
      "------------------------------------------------------------\n",
      "('Rooblan',) 0.4\n",
      "------------------------------------------------------------\n"
     ]
    }
   ],
   "source": [
    "##update win rate\n",
    "for tag in tags:\n",
    "    with DBcm.UseDatabase(credentials) as db:\n",
    "        SQL = \"\"\" \n",
    "            select count(*) from user_game_statistics\n",
    "            where user = %s and outcomes = \"Win\"\n",
    "        \"\"\"\n",
    "        db.execute(SQL,(tag))\n",
    "        results = db.fetchone()\n",
    "        wins = results[0]\n",
    "\n",
    "        SQL = \"\"\"\n",
    "            select count(*) from user_game_statistics\n",
    "            where user = %s and outcomes = \"Loss\"\n",
    "        \"\"\"\n",
    "        db.execute(SQL,(tag))\n",
    "        results = db.fetchone()\n",
    "        losses = results[0]\n",
    "\n",
    "        winRatio = wins / (wins + losses)\n",
    "\n",
    "        SQL = \"\"\"\n",
    "            update user_statistics\n",
    "            set win_rate = %s\n",
    "            where user = %s\n",
    "        \"\"\"\n",
    "        db.execute(SQL,(winRatio,tag[0]))\n",
    "\n",
    "        print(tag, winRatio)\n",
    "        print(\"-\" * 60)"
   ]
  },
  {
   "cell_type": "code",
   "execution_count": 21,
   "metadata": {},
   "outputs": [
    {
     "data": {
      "text/plain": [
       "('Rooblan',)"
      ]
     },
     "execution_count": 21,
     "metadata": {},
     "output_type": "execute_result"
    }
   ],
   "source": [
    "tag"
   ]
  },
  {
   "cell_type": "code",
   "execution_count": 44,
   "metadata": {},
   "outputs": [],
   "source": [
    "scores = {}\n",
    "\n",
    "for tag in tags:\n",
    "    with DBcm.UseDatabase(credentials) as db:    \n",
    "        SQL = \"\"\"\n",
    "            select win_rate from user_statistics \n",
    "            where user = %s\n",
    "        \"\"\"\n",
    "        db.execute(SQL, (tag))   # tuple.\n",
    "        win_rate = db.fetchone()  \n",
    "\n",
    "    scores[tag[0]] = win_rate[0]"
   ]
  },
  {
   "cell_type": "code",
   "execution_count": 39,
   "metadata": {},
   "outputs": [
    {
     "name": "stdout",
     "output_type": "stream",
     "text": [
      "Collecting matplotlibNote: you may need to restart the kernel to use updated packages.\n",
      "\n",
      "  Downloading matplotlib-3.8.2-cp311-cp311-win_amd64.whl.metadata (5.9 kB)\n",
      "Collecting contourpy>=1.0.1 (from matplotlib)\n",
      "  Downloading contourpy-1.2.0-cp311-cp311-win_amd64.whl.metadata (5.8 kB)\n",
      "Collecting cycler>=0.10 (from matplotlib)\n",
      "  Downloading cycler-0.12.1-py3-none-any.whl.metadata (3.8 kB)\n",
      "Collecting fonttools>=4.22.0 (from matplotlib)\n",
      "  Downloading fonttools-4.46.0-cp311-cp311-win_amd64.whl.metadata (159 kB)\n",
      "     ---------------------------------------- 0.0/159.4 kB ? eta -:--:--\n",
      "     ---------------------------------------- 0.0/159.4 kB ? eta -:--:--\n",
      "     ------- ----------------------------- 30.7/159.4 kB 435.7 kB/s eta 0:00:01\n",
      "     ------- ----------------------------- 30.7/159.4 kB 435.7 kB/s eta 0:00:01\n",
      "     --------- --------------------------- 41.0/159.4 kB 245.8 kB/s eta 0:00:01\n",
      "     ------------------- ----------------- 81.9/159.4 kB 383.3 kB/s eta 0:00:01\n",
      "     --------------------- --------------- 92.2/159.4 kB 438.1 kB/s eta 0:00:01\n",
      "     ------------------------- ---------- 112.6/159.4 kB 385.0 kB/s eta 0:00:01\n",
      "     --------------------------- -------- 122.9/159.4 kB 361.0 kB/s eta 0:00:01\n",
      "     -------------------------------- --- 143.4/159.4 kB 370.8 kB/s eta 0:00:01\n",
      "     ------------------------------------ 159.4/159.4 kB 367.4 kB/s eta 0:00:00\n",
      "Collecting kiwisolver>=1.3.1 (from matplotlib)\n",
      "  Downloading kiwisolver-1.4.5-cp311-cp311-win_amd64.whl.metadata (6.5 kB)\n",
      "Collecting numpy<2,>=1.21 (from matplotlib)\n",
      "  Downloading numpy-1.26.2-cp311-cp311-win_amd64.whl.metadata (61 kB)\n",
      "     ---------------------------------------- 0.0/61.2 kB ? eta -:--:--\n",
      "     ------ --------------------------------- 10.2/61.2 kB ? eta -:--:--\n",
      "     ------ --------------------------------- 10.2/61.2 kB ? eta -:--:--\n",
      "     ------------------- ------------------ 30.7/61.2 kB 259.2 kB/s eta 0:00:01\n",
      "     -------------------------------------- 61.2/61.2 kB 361.5 kB/s eta 0:00:00\n",
      "Requirement already satisfied: packaging>=20.0 in c:\\users\\richie\\appdata\\local\\packages\\pythonsoftwarefoundation.python.3.11_qbz5n2kfra8p0\\localcache\\local-packages\\python311\\site-packages (from matplotlib) (23.1)\n",
      "Collecting pillow>=8 (from matplotlib)\n",
      "  Downloading Pillow-10.1.0-cp311-cp311-win_amd64.whl.metadata (9.6 kB)\n",
      "Collecting pyparsing>=2.3.1 (from matplotlib)\n",
      "  Downloading pyparsing-3.1.1-py3-none-any.whl.metadata (5.1 kB)\n",
      "Requirement already satisfied: python-dateutil>=2.7 in c:\\users\\richie\\appdata\\local\\packages\\pythonsoftwarefoundation.python.3.11_qbz5n2kfra8p0\\localcache\\local-packages\\python311\\site-packages (from matplotlib) (2.8.2)\n",
      "Requirement already satisfied: six>=1.5 in c:\\users\\richie\\appdata\\local\\packages\\pythonsoftwarefoundation.python.3.11_qbz5n2kfra8p0\\localcache\\local-packages\\python311\\site-packages (from python-dateutil>=2.7->matplotlib) (1.16.0)\n",
      "Downloading matplotlib-3.8.2-cp311-cp311-win_amd64.whl (7.6 MB)\n",
      "   ---------------------------------------- 0.0/7.6 MB ? eta -:--:--\n",
      "   ---------------------------------------- 0.0/7.6 MB ? eta -:--:--\n",
      "   ---------------------------------------- 0.1/7.6 MB 991.0 kB/s eta 0:00:08\n",
      "    --------------------------------------- 0.1/7.6 MB 1.2 MB/s eta 0:00:07\n",
      "   - -------------------------------------- 0.2/7.6 MB 1.4 MB/s eta 0:00:06\n",
      "   - -------------------------------------- 0.3/7.6 MB 1.5 MB/s eta 0:00:05\n",
      "   - -------------------------------------- 0.3/7.6 MB 1.2 MB/s eta 0:00:06\n",
      "   - -------------------------------------- 0.4/7.6 MB 1.3 MB/s eta 0:00:06\n",
      "   -- ------------------------------------- 0.4/7.6 MB 1.1 MB/s eta 0:00:07\n",
      "   -- ------------------------------------- 0.5/7.6 MB 1.2 MB/s eta 0:00:06\n",
      "   --- ------------------------------------ 0.6/7.6 MB 1.3 MB/s eta 0:00:06\n",
      "   --- ------------------------------------ 0.7/7.6 MB 1.4 MB/s eta 0:00:06\n",
      "   --- ------------------------------------ 0.7/7.6 MB 1.4 MB/s eta 0:00:05\n",
      "   ---- ----------------------------------- 0.8/7.6 MB 1.4 MB/s eta 0:00:05\n",
      "   ---- ----------------------------------- 0.8/7.6 MB 1.3 MB/s eta 0:00:06\n",
      "   ---- ----------------------------------- 0.9/7.6 MB 1.3 MB/s eta 0:00:06\n",
      "   ---- ----------------------------------- 1.0/7.6 MB 1.3 MB/s eta 0:00:06\n",
      "   ----- ---------------------------------- 1.0/7.6 MB 1.3 MB/s eta 0:00:06\n",
      "   ----- ---------------------------------- 1.0/7.6 MB 1.3 MB/s eta 0:00:06\n",
      "   ------ --------------------------------- 1.1/7.6 MB 1.3 MB/s eta 0:00:06\n",
      "   ------ --------------------------------- 1.3/7.6 MB 1.4 MB/s eta 0:00:05\n",
      "   ------- -------------------------------- 1.5/7.6 MB 1.5 MB/s eta 0:00:05\n",
      "   -------- ------------------------------- 1.6/7.6 MB 1.6 MB/s eta 0:00:04\n",
      "   -------- ------------------------------- 1.7/7.6 MB 1.6 MB/s eta 0:00:04\n",
      "   -------- ------------------------------- 1.7/7.6 MB 1.5 MB/s eta 0:00:04\n",
      "   --------- ------------------------------ 1.8/7.6 MB 1.5 MB/s eta 0:00:04\n",
      "   --------- ------------------------------ 1.9/7.6 MB 1.6 MB/s eta 0:00:04\n",
      "   ---------- ----------------------------- 2.0/7.6 MB 1.6 MB/s eta 0:00:04\n",
      "   ---------- ----------------------------- 2.1/7.6 MB 1.6 MB/s eta 0:00:04\n",
      "   ----------- ---------------------------- 2.1/7.6 MB 1.6 MB/s eta 0:00:04\n",
      "   ----------- ---------------------------- 2.2/7.6 MB 1.5 MB/s eta 0:00:04\n",
      "   ----------- ---------------------------- 2.2/7.6 MB 1.5 MB/s eta 0:00:04\n",
      "   ----------- ---------------------------- 2.3/7.6 MB 1.5 MB/s eta 0:00:04\n",
      "   ------------ --------------------------- 2.3/7.6 MB 1.5 MB/s eta 0:00:04\n",
      "   ------------ --------------------------- 2.4/7.6 MB 1.5 MB/s eta 0:00:04\n",
      "   ------------- -------------------------- 2.5/7.6 MB 1.5 MB/s eta 0:00:04\n",
      "   ------------- -------------------------- 2.6/7.6 MB 1.5 MB/s eta 0:00:04\n",
      "   ------------- -------------------------- 2.6/7.6 MB 1.5 MB/s eta 0:00:04\n",
      "   -------------- ------------------------- 2.7/7.6 MB 1.5 MB/s eta 0:00:04\n",
      "   -------------- ------------------------- 2.8/7.6 MB 1.6 MB/s eta 0:00:04\n",
      "   --------------- ------------------------ 2.9/7.6 MB 1.6 MB/s eta 0:00:04\n",
      "   --------------- ------------------------ 3.0/7.6 MB 1.6 MB/s eta 0:00:03\n",
      "   ---------------- ----------------------- 3.2/7.6 MB 1.6 MB/s eta 0:00:03\n",
      "   ---------------- ----------------------- 3.2/7.6 MB 1.6 MB/s eta 0:00:03\n",
      "   ----------------- ---------------------- 3.3/7.6 MB 1.6 MB/s eta 0:00:03\n",
      "   ------------------ --------------------- 3.5/7.6 MB 1.7 MB/s eta 0:00:03\n",
      "   ------------------ --------------------- 3.6/7.6 MB 1.7 MB/s eta 0:00:03\n",
      "   -------------------- ------------------- 3.9/7.6 MB 1.8 MB/s eta 0:00:03\n",
      "   --------------------- ------------------ 4.0/7.6 MB 1.8 MB/s eta 0:00:02\n",
      "   ---------------------- ----------------- 4.4/7.6 MB 1.9 MB/s eta 0:00:02\n",
      "   ------------------------ --------------- 4.7/7.6 MB 2.0 MB/s eta 0:00:02\n",
      "   ------------------------- -------------- 4.9/7.6 MB 2.1 MB/s eta 0:00:02\n",
      "   -------------------------- ------------- 5.0/7.6 MB 2.1 MB/s eta 0:00:02\n",
      "   --------------------------- ------------ 5.2/7.6 MB 2.1 MB/s eta 0:00:02\n",
      "   --------------------------- ------------ 5.3/7.6 MB 2.1 MB/s eta 0:00:02\n",
      "   ---------------------------- ----------- 5.5/7.6 MB 2.1 MB/s eta 0:00:02\n",
      "   ----------------------------- ---------- 5.7/7.6 MB 2.2 MB/s eta 0:00:01\n",
      "   ------------------------------ --------- 5.9/7.6 MB 2.2 MB/s eta 0:00:01\n",
      "   ------------------------------- -------- 6.1/7.6 MB 2.2 MB/s eta 0:00:01\n",
      "   -------------------------------- ------- 6.2/7.6 MB 2.3 MB/s eta 0:00:01\n",
      "   --------------------------------- ------ 6.5/7.6 MB 2.3 MB/s eta 0:00:01\n",
      "   ------------------------------------ --- 6.9/7.6 MB 2.4 MB/s eta 0:00:01\n",
      "   -------------------------------------- - 7.3/7.6 MB 2.5 MB/s eta 0:00:01\n",
      "   ---------------------------------------  7.6/7.6 MB 2.6 MB/s eta 0:00:01\n",
      "   ---------------------------------------- 7.6/7.6 MB 2.5 MB/s eta 0:00:00\n",
      "Downloading contourpy-1.2.0-cp311-cp311-win_amd64.whl (187 kB)\n",
      "   ---------------------------------------- 0.0/187.6 kB ? eta -:--:--\n",
      "   ---------------------------------------- 187.6/187.6 kB 5.7 MB/s eta 0:00:00\n",
      "Downloading cycler-0.12.1-py3-none-any.whl (8.3 kB)\n",
      "Downloading fonttools-4.46.0-cp311-cp311-win_amd64.whl (2.2 MB)\n",
      "   ---------------------------------------- 0.0/2.2 MB ? eta -:--:--\n",
      "   ------ --------------------------------- 0.3/2.2 MB 10.6 MB/s eta 0:00:01\n",
      "   ----------- ---------------------------- 0.6/2.2 MB 7.7 MB/s eta 0:00:01\n",
      "   --------------- ------------------------ 0.9/2.2 MB 6.9 MB/s eta 0:00:01\n",
      "   ------------------- -------------------- 1.1/2.2 MB 5.7 MB/s eta 0:00:01\n",
      "   ----------------------- ---------------- 1.3/2.2 MB 5.8 MB/s eta 0:00:01\n",
      "   ------------------------- -------------- 1.4/2.2 MB 5.1 MB/s eta 0:00:01\n",
      "   ---------------------------- ----------- 1.6/2.2 MB 4.7 MB/s eta 0:00:01\n",
      "   ------------------------------ --------- 1.6/2.2 MB 4.5 MB/s eta 0:00:01\n",
      "   ------------------------------- -------- 1.7/2.2 MB 4.3 MB/s eta 0:00:01\n",
      "   ------------------------------- -------- 1.7/2.2 MB 4.3 MB/s eta 0:00:01\n",
      "   --------------------------------- ------ 1.8/2.2 MB 3.5 MB/s eta 0:00:01\n",
      "   -------------------------------------- - 2.1/2.2 MB 3.7 MB/s eta 0:00:01\n",
      "   ---------------------------------------- 2.2/2.2 MB 3.6 MB/s eta 0:00:00\n",
      "Downloading kiwisolver-1.4.5-cp311-cp311-win_amd64.whl (56 kB)\n",
      "   ---------------------------------------- 0.0/56.1 kB ? eta -:--:--\n",
      "   ---------------------------------------- 56.1/56.1 kB 3.1 MB/s eta 0:00:00\n",
      "Downloading numpy-1.26.2-cp311-cp311-win_amd64.whl (15.8 MB)\n",
      "   ---------------------------------------- 0.0/15.8 MB ? eta -:--:--\n",
      "    --------------------------------------- 0.3/15.8 MB 8.9 MB/s eta 0:00:02\n",
      "   - -------------------------------------- 0.5/15.8 MB 10.0 MB/s eta 0:00:02\n",
      "   - -------------------------------------- 0.6/15.8 MB 5.1 MB/s eta 0:00:03\n",
      "   -- ------------------------------------- 1.1/15.8 MB 6.2 MB/s eta 0:00:03\n",
      "   --- ------------------------------------ 1.4/15.8 MB 6.3 MB/s eta 0:00:03\n",
      "   ---- ----------------------------------- 1.6/15.8 MB 6.5 MB/s eta 0:00:03\n",
      "   ----- ---------------------------------- 2.0/15.8 MB 6.2 MB/s eta 0:00:03\n",
      "   ------ --------------------------------- 2.4/15.8 MB 6.6 MB/s eta 0:00:03\n",
      "   ------ --------------------------------- 2.7/15.8 MB 6.3 MB/s eta 0:00:03\n",
      "   ------- -------------------------------- 3.2/15.8 MB 6.9 MB/s eta 0:00:02\n",
      "   -------- ------------------------------- 3.4/15.8 MB 6.6 MB/s eta 0:00:02\n",
      "   -------- ------------------------------- 3.6/15.8 MB 6.3 MB/s eta 0:00:02\n",
      "   --------- ------------------------------ 3.9/15.8 MB 6.5 MB/s eta 0:00:02\n",
      "   ---------- ----------------------------- 4.1/15.8 MB 6.2 MB/s eta 0:00:02\n",
      "   ----------- ---------------------------- 4.4/15.8 MB 6.3 MB/s eta 0:00:02\n",
      "   ----------- ---------------------------- 4.6/15.8 MB 6.1 MB/s eta 0:00:02\n",
      "   ------------ --------------------------- 4.8/15.8 MB 6.0 MB/s eta 0:00:02\n",
      "   ------------ --------------------------- 4.8/15.8 MB 6.0 MB/s eta 0:00:02\n",
      "   ------------ --------------------------- 4.8/15.8 MB 6.0 MB/s eta 0:00:02\n",
      "   ------------ --------------------------- 4.8/15.8 MB 6.0 MB/s eta 0:00:02\n",
      "   ------------ --------------------------- 4.8/15.8 MB 6.0 MB/s eta 0:00:02\n",
      "   ------------ --------------------------- 4.8/15.8 MB 6.0 MB/s eta 0:00:02\n",
      "   ------------ --------------------------- 4.8/15.8 MB 6.0 MB/s eta 0:00:02\n",
      "   ------------ --------------------------- 4.8/15.8 MB 6.0 MB/s eta 0:00:02\n",
      "   ------------ --------------------------- 4.8/15.8 MB 6.0 MB/s eta 0:00:02\n",
      "   ------------ --------------------------- 4.8/15.8 MB 6.0 MB/s eta 0:00:02\n",
      "   ------------ --------------------------- 4.8/15.8 MB 6.0 MB/s eta 0:00:02\n",
      "   ------------ --------------------------- 4.8/15.8 MB 6.0 MB/s eta 0:00:02\n",
      "   ------------ --------------------------- 4.8/15.8 MB 6.0 MB/s eta 0:00:02\n",
      "   ------------ --------------------------- 4.8/15.8 MB 6.0 MB/s eta 0:00:02\n",
      "   ------------ --------------------------- 4.9/15.8 MB 3.4 MB/s eta 0:00:04\n",
      "   ------------ --------------------------- 4.9/15.8 MB 3.4 MB/s eta 0:00:04\n",
      "   ------------ --------------------------- 4.9/15.8 MB 3.4 MB/s eta 0:00:04\n",
      "   ------------ --------------------------- 4.9/15.8 MB 3.4 MB/s eta 0:00:04\n",
      "   ------------ --------------------------- 4.9/15.8 MB 3.4 MB/s eta 0:00:04\n",
      "   ------------ --------------------------- 4.9/15.8 MB 3.4 MB/s eta 0:00:04\n",
      "   ------------ --------------------------- 4.9/15.8 MB 2.8 MB/s eta 0:00:04\n",
      "   ------------- -------------------------- 5.4/15.8 MB 3.1 MB/s eta 0:00:04\n",
      "   ------------- -------------------------- 5.4/15.8 MB 3.1 MB/s eta 0:00:04\n",
      "   ------------- -------------------------- 5.4/15.8 MB 3.1 MB/s eta 0:00:04\n",
      "   ------------- -------------------------- 5.4/15.8 MB 3.1 MB/s eta 0:00:04\n",
      "   ------------- -------------------------- 5.4/15.8 MB 3.1 MB/s eta 0:00:04\n",
      "   ------------- -------------------------- 5.4/15.8 MB 3.1 MB/s eta 0:00:04\n",
      "   ------------- -------------------------- 5.4/15.8 MB 3.1 MB/s eta 0:00:04\n",
      "   ------------- -------------------------- 5.4/15.8 MB 3.1 MB/s eta 0:00:04\n",
      "   ------------- -------------------------- 5.4/15.8 MB 3.1 MB/s eta 0:00:04\n",
      "   ------------- -------------------------- 5.4/15.8 MB 3.1 MB/s eta 0:00:04\n",
      "   ------------- -------------------------- 5.4/15.8 MB 3.1 MB/s eta 0:00:04\n",
      "   ------------- -------------------------- 5.4/15.8 MB 3.1 MB/s eta 0:00:04\n",
      "   ------------- -------------------------- 5.4/15.8 MB 3.1 MB/s eta 0:00:04\n",
      "   ------------- -------------------------- 5.4/15.8 MB 3.1 MB/s eta 0:00:04\n",
      "   ------------- -------------------------- 5.4/15.8 MB 3.1 MB/s eta 0:00:04\n",
      "   ------------- -------------------------- 5.4/15.8 MB 3.1 MB/s eta 0:00:04\n",
      "   ------------- -------------------------- 5.4/15.8 MB 3.1 MB/s eta 0:00:04\n",
      "   ------------- -------------------------- 5.4/15.8 MB 3.1 MB/s eta 0:00:04\n",
      "   ------------- -------------------------- 5.4/15.8 MB 3.1 MB/s eta 0:00:04\n",
      "   ------------- -------------------------- 5.5/15.8 MB 2.0 MB/s eta 0:00:06\n",
      "   ------------- -------------------------- 5.5/15.8 MB 2.0 MB/s eta 0:00:06\n",
      "   -------------- ------------------------- 5.8/15.8 MB 2.1 MB/s eta 0:00:05\n",
      "   --------------- ------------------------ 6.2/15.8 MB 2.2 MB/s eta 0:00:05\n",
      "   ----------------- ---------------------- 6.7/15.8 MB 2.3 MB/s eta 0:00:04\n",
      "   ------------------ --------------------- 7.2/15.8 MB 2.5 MB/s eta 0:00:04\n",
      "   ------------------ --------------------- 7.5/15.8 MB 2.5 MB/s eta 0:00:04\n",
      "   ------------------- -------------------- 7.8/15.8 MB 2.6 MB/s eta 0:00:04\n",
      "   -------------------- ------------------- 8.0/15.8 MB 2.6 MB/s eta 0:00:03\n",
      "   --------------------- ------------------ 8.4/15.8 MB 2.7 MB/s eta 0:00:03\n",
      "   ---------------------- ----------------- 8.8/15.8 MB 2.8 MB/s eta 0:00:03\n",
      "   ---------------------- ----------------- 9.0/15.8 MB 2.8 MB/s eta 0:00:03\n",
      "   ----------------------- ---------------- 9.1/15.8 MB 2.8 MB/s eta 0:00:03\n",
      "   ----------------------- ---------------- 9.4/15.8 MB 2.8 MB/s eta 0:00:03\n",
      "   ------------------------ --------------- 9.7/15.8 MB 2.9 MB/s eta 0:00:03\n",
      "   ------------------------- -------------- 10.1/15.8 MB 3.0 MB/s eta 0:00:02\n",
      "   -------------------------- ------------- 10.3/15.8 MB 3.0 MB/s eta 0:00:02\n",
      "   -------------------------- ------------- 10.4/15.8 MB 2.9 MB/s eta 0:00:02\n",
      "   -------------------------- ------------- 10.5/15.8 MB 2.9 MB/s eta 0:00:02\n",
      "   -------------------------- ------------- 10.7/15.8 MB 2.9 MB/s eta 0:00:02\n",
      "   --------------------------- ------------ 10.8/15.8 MB 2.9 MB/s eta 0:00:02\n",
      "   --------------------------- ------------ 10.9/15.8 MB 2.9 MB/s eta 0:00:02\n",
      "   ---------------------------- ----------- 11.2/15.8 MB 2.9 MB/s eta 0:00:02\n",
      "   ----------------------------- ---------- 11.7/15.8 MB 2.9 MB/s eta 0:00:02\n",
      "   ------------------------------- -------- 12.2/15.8 MB 2.9 MB/s eta 0:00:02\n",
      "   -------------------------------- ------- 12.7/15.8 MB 2.9 MB/s eta 0:00:02\n",
      "   --------------------------------- ------ 13.0/15.8 MB 2.9 MB/s eta 0:00:01\n",
      "   --------------------------------- ------ 13.2/15.8 MB 2.9 MB/s eta 0:00:01\n",
      "   ---------------------------------- ----- 13.5/15.8 MB 2.9 MB/s eta 0:00:01\n",
      "   ---------------------------------- ----- 13.7/15.8 MB 2.9 MB/s eta 0:00:01\n",
      "   ----------------------------------- ---- 13.9/15.8 MB 2.9 MB/s eta 0:00:01\n",
      "   ----------------------------------- ---- 14.0/15.8 MB 2.9 MB/s eta 0:00:01\n",
      "   ------------------------------------ --- 14.2/15.8 MB 2.8 MB/s eta 0:00:01\n",
      "   ------------------------------------ --- 14.4/15.8 MB 2.8 MB/s eta 0:00:01\n",
      "   ------------------------------------- -- 14.7/15.8 MB 2.8 MB/s eta 0:00:01\n",
      "   ------------------------------------- -- 14.9/15.8 MB 2.9 MB/s eta 0:00:01\n",
      "   ------------------------------------- -- 14.9/15.8 MB 2.8 MB/s eta 0:00:01\n",
      "   ------------------------------------- -- 14.9/15.8 MB 2.8 MB/s eta 0:00:01\n",
      "   -------------------------------------- - 15.0/15.8 MB 2.8 MB/s eta 0:00:01\n",
      "   -------------------------------------- - 15.2/15.8 MB 3.7 MB/s eta 0:00:01\n",
      "   -------------------------------------- - 15.3/15.8 MB 3.6 MB/s eta 0:00:01\n",
      "   ---------------------------------------  15.5/15.8 MB 3.5 MB/s eta 0:00:01\n",
      "   ---------------------------------------  15.8/15.8 MB 5.3 MB/s eta 0:00:01\n",
      "   ---------------------------------------  15.8/15.8 MB 5.3 MB/s eta 0:00:01\n",
      "   ---------------------------------------- 15.8/15.8 MB 5.1 MB/s eta 0:00:00\n",
      "Downloading Pillow-10.1.0-cp311-cp311-win_amd64.whl (2.6 MB)\n",
      "   ---------------------------------------- 0.0/2.6 MB ? eta -:--:--\n",
      "   ---- ----------------------------------- 0.3/2.6 MB 18.4 MB/s eta 0:00:01\n",
      "   ----- ---------------------------------- 0.3/2.6 MB 4.3 MB/s eta 0:00:01\n",
      "   --------- ------------------------------ 0.6/2.6 MB 4.9 MB/s eta 0:00:01\n",
      "   ---------- ----------------------------- 0.7/2.6 MB 4.1 MB/s eta 0:00:01\n",
      "   ------------------ --------------------- 1.2/2.6 MB 5.5 MB/s eta 0:00:01\n",
      "   ----------------------- ---------------- 1.6/2.6 MB 5.8 MB/s eta 0:00:01\n",
      "   ------------------------------ --------- 2.0/2.6 MB 6.3 MB/s eta 0:00:01\n",
      "   ------------------------------------ --- 2.4/2.6 MB 6.6 MB/s eta 0:00:01\n",
      "   ---------------------------------------  2.6/2.6 MB 6.6 MB/s eta 0:00:01\n",
      "   ---------------------------------------- 2.6/2.6 MB 6.2 MB/s eta 0:00:00\n",
      "Downloading pyparsing-3.1.1-py3-none-any.whl (103 kB)\n",
      "   ---------------------------------------- 0.0/103.1 kB ? eta -:--:--\n",
      "   ---------------------------------------- 103.1/103.1 kB 3.0 MB/s eta 0:00:00\n",
      "Installing collected packages: pyparsing, pillow, numpy, kiwisolver, fonttools, cycler, contourpy, matplotlib\n",
      "Successfully installed contourpy-1.2.0 cycler-0.12.1 fonttools-4.46.0 kiwisolver-1.4.5 matplotlib-3.8.2 numpy-1.26.2 pillow-10.1.0 pyparsing-3.1.1\n"
     ]
    }
   ],
   "source": [
    "%pip install --upgrade matplotlib"
   ]
  },
  {
   "cell_type": "code",
   "execution_count": 45,
   "metadata": {},
   "outputs": [
    {
     "data": {
      "text/plain": [
       "{'Reacu': 0.6, 'JosherFella': 0.35, 'Rooblan': 0.4}"
      ]
     },
     "execution_count": 45,
     "metadata": {},
     "output_type": "execute_result"
    }
   ],
   "source": [
    "scores"
   ]
  },
  {
   "cell_type": "code",
   "execution_count": 46,
   "metadata": {},
   "outputs": [
    {
     "data": {
      "image/png": "[encoded data removed]",
      "text/plain": [
       "<Figure size 640x480 with 1 Axes>"
      ]
     },
     "metadata": {},
     "output_type": "display_data"
    }
   ],
   "source": [
    "import matplotlib.pyplot as plt\n",
    "\n",
    "fig, ax = plt.subplots()\n",
    "\n",
    "y_labels = list(scores.keys())\n",
    "x_values = list(scores.values())\n",
    "\n",
    "\n",
    "bar_colors = ['tab:red', 'tab:blue', 'tab:red', 'tab:orange']\n",
    "\n",
    "ax.barh(y_labels, x_values, color=bar_colors)\n",
    "\n",
    "\n",
    "ax.set_xlabel('Blackjack Winrate')\n",
    "ax.set_title('How are all of our users doing?')\n",
    "\n",
    "plt.show()"
   ]
  },
  {
   "cell_type": "code",
   "execution_count": null,
   "metadata": {},
   "outputs": [],
   "source": []
  }
 ],
 "metadata": {
  "kernelspec": {
   "display_name": "Python 3",
   "language": "python",
   "name": "python3"
  },
  "language_info": {
   "codemirror_mode": {
    "name": "ipython",
    "version": 3
   },
   "file_extension": ".py",
   "mimetype": "text/x-python",
   "name": "python",
   "nbconvert_exporter": "python",
   "pygments_lexer": "ipython3",
   "version": "3.11.6"
  }
 },
 "nbformat": 4,
 "nbformat_minor": 2
}
