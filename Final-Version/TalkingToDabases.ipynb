{
 "cells": [
  {
   "cell_type": "code",
   "execution_count": 4,
   "metadata": {},
   "outputs": [
    {
     "name": "stdout",
     "output_type": "stream",
     "text": [
      "Requirement already satisfied: DBcm in c:\\users\\richie\\appdata\\local\\packages\\pythonsoftwarefoundation.python.3.11_qbz5n2kfra8p0\\localcache\\local-packages\\python311\\site-packages (2.1)\n",
      "Requirement already satisfied: mysql-connector-python in c:\\users\\richie\\appdata\\local\\packages\\pythonsoftwarefoundation.python.3.11_qbz5n2kfra8p0\\localcache\\local-packages\\python311\\site-packages (from DBcm) (8.2.0)\n",
      "Requirement already satisfied: protobuf<=4.21.12,>=4.21.1 in c:\\users\\richie\\appdata\\local\\packages\\pythonsoftwarefoundation.python.3.11_qbz5n2kfra8p0\\localcache\\local-packages\\python311\\site-packages (from mysql-connector-python->DBcm) (4.21.12)\n",
      "Note: you may need to restart the kernel to use updated packages.\n"
     ]
    }
   ],
   "source": [
    "%pip install --upgrade DBcm"
   ]
  },
  {
   "cell_type": "code",
   "execution_count": 5,
   "metadata": {},
   "outputs": [],
   "source": [
    "import DBcm"
   ]
  },
  {
   "cell_type": "code",
   "execution_count": 6,
   "metadata": {},
   "outputs": [],
   "source": [
    "credentials = {\n",
    "    \"host\": \"localhost\",\n",
    "    \"database\": \"BlackjackDB\",\n",
    "    \"user\": \"richard\",\n",
    "    \"password\": \"richpassword\"\n",
    "}"
   ]
  },
  {
   "cell_type": "code",
   "execution_count": 7,
   "metadata": {},
   "outputs": [],
   "source": [
    "with DBcm.UseDatabase(credentials) as db:    # database context manager: \"db\" is a database connection.\n",
    "    SQL = \"select * from user_game_statistics\"\n",
    "    db.execute(SQL)  # sends the SQL command to the server to run.\n",
    "    results = db.fetchall()  # gets any results from the server.\n",
    "# automatically closed the database connection."
   ]
  },
  {
   "cell_type": "code",
   "execution_count": 8,
   "metadata": {},
   "outputs": [],
   "source": [
    "import random"
   ]
  },
  {
   "cell_type": "code",
   "execution_count": 30,
   "metadata": {},
   "outputs": [],
   "source": [
    "for _ in range(10):\n",
    "    SQL = \"\"\"\n",
    "        insert into user_game_statistics\n",
    "        (user, outcomes)\n",
    "        values\n",
    "        (%s, %s)\n",
    "    \"\"\"\n",
    "    \n",
    "    gamer = \"Rooblan\"\n",
    "    outcome = random.choice([\"Win\", \"Loss\"])\n",
    "    with DBcm.UseDatabase(credentials) as db:\n",
    "        db.execute(SQL,(gamer,outcome))\n",
    "        SQL = \"\"\"select * from user_game_statistics\"\"\"\n",
    "        db.execute(SQL)\n",
    "        results = db.fetchall()\n",
    "        "
   ]
  },
  {
   "cell_type": "code",
   "execution_count": 22,
   "metadata": {},
   "outputs": [],
   "source": [
    "\n",
    "SQL = \"\"\"\n",
    "    delete from user_game_statistics\n",
    "    where user = \"Reacu\"\n",
    "\"\"\"\n",
    "with DBcm.UseDatabase(credentials) as db:\n",
    "    db.execute(SQL)\n",
    "    SQL = \"\"\"select * from user_game_statistics\"\"\"\n",
    "    db.execute(SQL)\n",
    "    results = db.fetchall()\n",
    "        "
   ]
  },
  {
   "cell_type": "code",
   "execution_count": 31,
   "metadata": {},
   "outputs": [
    {
     "data": {
      "text/plain": [
       "[('Reacu', 'Loss'),\n",
       " ('Reacu', 'Win'),\n",
       " ('Reacu', 'Loss'),\n",
       " ('Reacu', 'Win'),\n",
       " ('Reacu', 'Win'),\n",
       " ('Reacu', 'Win'),\n",
       " ('Reacu', 'Win'),\n",
       " ('Reacu', 'Win'),\n",
       " ('Reacu', 'Win'),\n",
       " ('Reacu', 'Loss'),\n",
       " ('JosherFella', 'Loss'),\n",
       " ('JosherFella', 'Loss'),\n",
       " ('JosherFella', 'Loss'),\n",
       " ('JosherFella', 'Loss'),\n",
       " ('JosherFella', 'Win'),\n",
       " ('JosherFella', 'Loss'),\n",
       " ('JosherFella', 'Win'),\n",
       " ('JosherFella', 'Loss'),\n",
       " ('JosherFella', 'Loss'),\n",
       " ('JosherFella', 'Win'),\n",
       " ('Rooblan', 'Loss'),\n",
       " ('Rooblan', 'Loss'),\n",
       " ('Rooblan', 'Loss'),\n",
       " ('Rooblan', 'Win'),\n",
       " ('Rooblan', 'Loss'),\n",
       " ('Rooblan', 'Loss'),\n",
       " ('Rooblan', 'Loss'),\n",
       " ('Rooblan', 'Win'),\n",
       " ('Rooblan', 'Win'),\n",
       " ('Rooblan', 'Win')]"
      ]
     },
     "execution_count": 31,
     "metadata": {},
     "output_type": "execute_result"
    }
   ],
   "source": [
    "results"
   ]
  },
  {
   "cell_type": "code",
   "execution_count": 54,
   "metadata": {},
   "outputs": [],
   "source": [
    "with DBcm.UseDatabase(credentials) as db:\n",
    "    SQL = \"\"\"\n",
    "        select user from user_game_statistics\n",
    "    \"\"\"\n",
    "    db.execute(SQL)\n",
    "    tags = db.fetchall()"
   ]
  },
  {
   "cell_type": "code",
   "execution_count": 55,
   "metadata": {},
   "outputs": [
    {
     "data": {
      "text/plain": [
       "[('Reacu',),\n",
       " ('Reacu',),\n",
       " ('Reacu',),\n",
       " ('Reacu',),\n",
       " ('Reacu',),\n",
       " ('Reacu',),\n",
       " ('Reacu',),\n",
       " ('Reacu',),\n",
       " ('Reacu',),\n",
       " ('Reacu',),\n",
       " ('JosherFella',),\n",
       " ('JosherFella',),\n",
       " ('JosherFella',),\n",
       " ('JosherFella',),\n",
       " ('JosherFella',),\n",
       " ('JosherFella',),\n",
       " ('JosherFella',),\n",
       " ('JosherFella',),\n",
       " ('JosherFella',),\n",
       " ('JosherFella',),\n",
       " ('Rooblan',),\n",
       " ('Rooblan',),\n",
       " ('Rooblan',),\n",
       " ('Rooblan',),\n",
       " ('Rooblan',),\n",
       " ('Rooblan',),\n",
       " ('Rooblan',),\n",
       " ('Rooblan',),\n",
       " ('Rooblan',),\n",
       " ('Rooblan',)]"
      ]
     },
     "execution_count": 55,
     "metadata": {},
     "output_type": "execute_result"
    }
   ],
   "source": [
    "tags"
   ]
  },
  {
   "cell_type": "code",
   "execution_count": 51,
   "metadata": {},
   "outputs": [
    {
     "name": "stdout",
     "output_type": "stream",
     "text": [
      "['R', 'R', 'R', 'R', 'R', 'R', 'R', 'R', 'R', 'R', 'J', 'J', 'J', 'J', 'J', 'J', 'J', 'J', 'J', 'J', 'R', 'R', 'R', 'R', 'R', 'R', 'R', 'R', 'R', 'R']\n"
     ]
    }
   ],
   "source": [
    "tags = [ row[0] for row in tags ]\n",
    "print(tags)"
   ]
  },
  {
   "cell_type": "code",
   "execution_count": 35,
   "metadata": {},
   "outputs": [
    {
     "data": {
      "text/plain": [
       "'Reacu'"
      ]
     },
     "execution_count": 35,
     "metadata": {},
     "output_type": "execute_result"
    }
   ],
   "source": [
    "who = random.choice(tags)\n",
    "who"
   ]
  },
  {
   "cell_type": "code",
   "execution_count": null,
   "metadata": {},
   "outputs": [],
   "source": [
    "def random_user():\n",
    "    with DBcm.UseDatabase(credentials) as db:\n",
    "        SQL = \"\"\"\n",
    "            select user from user_game_statistics\n",
    "        \"\"\"\n",
    "        db.execute(SQL)\n",
    "        tags = db.fetchall()\n",
    "        tags = [ row[0] for row in tags ]\n",
    "        who = random.choice(tags)\n",
    "    return who"
   ]
  },
  {
   "cell_type": "code",
   "execution_count": null,
   "metadata": {},
   "outputs": [],
   "source": [
    "gamer = random_user()\n",
    "outcome = random.choice([\"Win\", \"Loss\"])\n",
    "gamer, outcome"
   ]
  },
  {
   "cell_type": "code",
   "execution_count": null,
   "metadata": {},
   "outputs": [],
   "source": [
    "for _ in range(500):\n",
    "    SQL = \"\"\"\n",
    "        insert into user_game_statistics\n",
    "        ( user, outcomes )\n",
    "        values     \n",
    "        (%s, %s)\n",
    "    \"\"\"\n",
    "    user = random_user()\n",
    "    outcome = random.choice([\"Win\", \"Loss\"])\n",
    "    with DBcm.UseDatabase(credentials) as db:\n",
    "        db.execute(SQL, (gamer, outcome, ))   # tuple.\n",
    "        SQL = \"\"\"select * from games\"\"\"\n",
    "        db.execute(SQL)\n",
    "        results = db.fetchall()\n",
    "        ## print(results[-3:])"
   ]
  },
  {
   "cell_type": "code",
   "execution_count": null,
   "metadata": {},
   "outputs": [],
   "source": [
    "len(results)"
   ]
  },
  {
   "cell_type": "code",
   "execution_count": 61,
   "metadata": {},
   "outputs": [
    {
     "name": "stdout",
     "output_type": "stream",
     "text": [
      "3\n"
     ]
    }
   ],
   "source": [
    "with DBcm.UseDatabase(credentials) as db:\n",
    "    SQL = \"\"\"select distinct user from user_game_statistics\"\"\"\n",
    "    db.execute(SQL)\n",
    "    tags = db.fetchall()\n",
    "    print(len(tags))\n",
    "    "
   ]
  },
  {
   "cell_type": "code",
   "execution_count": 62,
   "metadata": {},
   "outputs": [
    {
     "data": {
      "text/plain": [
       "[('Reacu',), ('JosherFella',), ('Rooblan',)]"
      ]
     },
     "execution_count": 62,
     "metadata": {},
     "output_type": "execute_result"
    }
   ],
   "source": [
    "tags"
   ]
  },
  {
   "cell_type": "code",
   "execution_count": 69,
   "metadata": {},
   "outputs": [
    {
     "name": "stdout",
     "output_type": "stream",
     "text": [
      "('Reacu',) 0.7\n",
      "------------------------------------------------------------\n",
      "('JosherFella',) 0.3\n",
      "------------------------------------------------------------\n",
      "('Rooblan',) 0.4\n",
      "------------------------------------------------------------\n"
     ]
    }
   ],
   "source": [
    "for tag in tags:\n",
    "    with DBcm.UseDatabase(credentials) as db:    \n",
    "        SQL = \"\"\"\n",
    "            select count(*) from user_game_statistics \n",
    "            where user = %s and outcomes = \"Win\"\n",
    "        \"\"\"\n",
    "        db.execute(SQL, (tag ))   # single value, not a tuple.\n",
    "        results = db.fetchone()  \n",
    "        wins = results[0]\n",
    "        SQL = \"\"\"\n",
    "            select count(*) from user_game_statistics \n",
    "            where user = %s and outcomes = \"Loss\"\n",
    "        \"\"\"\n",
    "        db.execute(SQL, (tag ))   # single value, not a tuple.\n",
    "        results = db.fetchone() \n",
    "        losses = results[0]\n",
    "\n",
    "        SQL = \"\"\"\n",
    "    \t    insert into user_statistics\n",
    "            (user, win_rate)\n",
    "            values\n",
    "            (%s , %s)\n",
    "    \"\"\"\n",
    "        winRatio = wins / (wins+losses)\n",
    "        db.execute(SQL,(tag[0],winRatio,))\n",
    "\n",
    "    ## print(\"Wins:\", wins)\n",
    "    ## print(\"Losses:\", losses)\n",
    "    \n",
    "    print(tag, winRatio)\n",
    "    print(\"-\"*60)\n",
    "        \n"
   ]
  },
  {
   "cell_type": "code",
   "execution_count": null,
   "metadata": {},
   "outputs": [],
   "source": []
  }
 ],
 "metadata": {
  "kernelspec": {
   "display_name": "Python 3",
   "language": "python",
   "name": "python3"
  },
  "language_info": {
   "codemirror_mode": {
    "name": "ipython",
    "version": 3
   },
   "file_extension": ".py",
   "mimetype": "text/x-python",
   "name": "python",
   "nbconvert_exporter": "python",
   "pygments_lexer": "ipython3",
   "version": "3.11.6"
  }
 },
 "nbformat": 4,
 "nbformat_minor": 2
}
